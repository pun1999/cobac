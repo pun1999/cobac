
{
 "cells": [
  {
   "cell_type": "code",
   "execution_count": 1,
   "metadata": {},
   "outputs": [],
   "source": [
    "!pip install transformers torch"
   ]
  },
  {
   "cell_type": "code",
   "execution_count": 2,
   "metadata": {},
   "outputs": [],
   "source": [
    "from transformers import StableDiffusionPipeline\n",
    "import torch\n",
    "\n",
    "# Load Stable Diffusion model from Hugging Face\n",
    "pipe = StableDiffusionPipeline.from_pretrained('CompVis/stable-diffusion-v-1-4-original', torch_dtype=torch.float16)\n",
    "pipe.to('cuda')  # Use 'cpu' if no GPU available\n",
    "\n",
    "# Generate an image from a prompt\n",
    "prompt = 'A futuristic city skyline at sunset, with flying cars and glowing lights'\n",
    "image = pipe(prompt).images[0]\n",
    "\n",
    "# Save the generated image to a file\n",
    "image.save('generated_image.png')\n"
   ]
  },
  {
   "cell_type": "code",
   "execution_count": 3,
   "metadata": {},
   "outputs": [
    {
     "data": {
      "image/png": [
       "iVBORw0KGgoAAAANSUhEUgAAAoAAAAHgCAIAAAD9vZCUAAABlElEQVR4nO3BMQEAAAABIP6PzgpVg39QsLg13oOEZbZ3fV1OqWgeOUiQg0OhxgHl9g02PtwJ47Z4DDzv0gI1FvX93MlEBllZ9gXYJe1gFm77vDJz8E0d58KhA2H9VkI5F7aQH5MNsNk9gaqUgiYyC5eUBmn57Z9Y5B9dwn5beYw==
      ],
      "image/png": {
       "src": "generated_image.png"
      }
     }
    }
   ]
  }
 ],
 "metadata": {},
 "nbformat": 4,
 "nbformat_minor": 5
}
